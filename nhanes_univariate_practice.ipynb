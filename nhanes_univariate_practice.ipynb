{
  "cells": [
    {
      "cell_type": "markdown",
      "metadata": {
        "id": "view-in-github",
        "colab_type": "text"
      },
      "source": [
        "<a href=\"https://colab.research.google.com/github/brittabeta/AdventureWorks-SQL-PowerBI/blob/main/nhanes_univariate_practice.ipynb\" target=\"_parent\"><img src=\"https://colab.research.google.com/assets/colab-badge.svg\" alt=\"Open In Colab\"/></a>"
      ]
    },
    {
      "cell_type": "markdown",
      "metadata": {
        "id": "2X9IpJ_MU0N7"
      },
      "source": [
        "# Practice notebook for univariate analysis using NHANES data\n",
        "\n",
        "This notebook will be used to perform some univariate analyses on  the NHANES data set.  \n",
        "\n",
        "To get started, import modules and read the data:"
      ]
    },
    {
      "cell_type": "code",
      "execution_count": 39,
      "metadata": {
        "id": "yp-aLT2FU0N9"
      },
      "outputs": [],
      "source": [
        "%matplotlib inline\n",
        "import matplotlib.pyplot as plt\n",
        "import seaborn as sns\n",
        "import pandas as pd\n",
        "import statsmodels.api as sm\n",
        "import numpy as np\n",
        "\n",
        "path = '/content/nhanes_2015_2016.csv'\n",
        "da = pd.read_csv(path)"
      ]
    },
    {
      "cell_type": "markdown",
      "metadata": {
        "id": "xiQ8J4DaU0N-"
      },
      "source": [
        "Marital Status Variable [DMDMARTL](https://wwwn.cdc.gov/Nchs/Nhanes/2015-2016/DEMO_I.htm#DMDMARTL) "
      ]
    },
    {
      "cell_type": "code",
      "source": [
        "# inspect current state of DMDMARTL marital status column\n",
        "print('Unique Values in Marital Status Column:', da.DMDMARTL.value_counts())\n",
        "print('Null Values in Marital Status Column:', da.DMDMARTL.isnull().sum())"
      ],
      "metadata": {
        "colab": {
          "base_uri": "https://localhost:8080/"
        },
        "id": "8IX8NPOTXmQt",
        "outputId": "140d50ba-66ff-43be-9e6a-51851e8f5ad3"
      },
      "execution_count": 40,
      "outputs": [
        {
          "output_type": "stream",
          "name": "stdout",
          "text": [
            "Unique Values in Marital Status Column: 1.0     2780\n",
            "5.0     1004\n",
            "3.0      579\n",
            "6.0      527\n",
            "2.0      396\n",
            "4.0      186\n",
            "77.0       2\n",
            "Name: DMDMARTL, dtype: int64\n",
            "Null Values in Marital Status Column: 261\n"
          ]
        }
      ]
    },
    {
      "cell_type": "code",
      "source": [
        "# de code / rename martial status values labels per NHANEs code\n",
        "da['DMDMARTL'] = da.DMDMARTL.replace({\n",
        "    1:\t'Married',\t2:\t'Widowed', 3:\t'Divorced', 4: 'Separated',\t\n",
        "    5:\t'Never married', 6:\t'Living with partner', 77:\t'Refused'})\n",
        "# rename missing / NaN values as Missing\n",
        "da['DMDMARTL'] = da.DMDMARTL.fillna('Missing')"
      ],
      "metadata": {
        "id": "P_qJKOj8Vm_q"
      },
      "execution_count": 42,
      "outputs": []
    },
    {
      "cell_type": "code",
      "execution_count": 43,
      "metadata": {
        "colab": {
          "base_uri": "https://localhost:8080/"
        },
        "id": "YcdmDQtEU0N_",
        "outputId": "b175d0b5-0bdf-4638-9b68-9993be2570a0"
      },
      "outputs": [
        {
          "output_type": "stream",
          "name": "stdout",
          "text": [
            "Frequency Table: Marital Status (All Genders)\n",
            " Married                0.484743\n",
            "Never married          0.175065\n",
            "Divorced               0.100959\n",
            "Living with partner    0.091892\n",
            "Widowed                0.069050\n",
            "Missing                0.045510\n",
            "Separated              0.032432\n",
            "Refused                0.000349\n",
            "Name: DMDMARTL, dtype: float64\n"
          ]
        }
      ],
      "source": [
        "# create a frequency table for all subjects marital status\n",
        "x = da.DMDMARTL.value_counts()\n",
        "print('Frequency Table: Marital Status (All Genders)\\n',x/x.sum())"
      ]
    },
    {
      "cell_type": "code",
      "source": [
        "# create a frequency table for marital status, females only\n",
        "f = da[da['RIAGENDR'] == 2]\n",
        "f = f.DMDMARTL.value_counts()\n",
        "print('Frequency Table: Marital Status (Females)\\n',f/f.sum())\n",
        "# create a frequency table for marital status, males only\n",
        "m = da[da['RIAGENDR'] == 1]\n",
        "m = m.DMDMARTL.value_counts()\n",
        "print('Frequency Table: Marital Status (Males)\\n',m/m.sum())"
      ],
      "metadata": {
        "colab": {
          "base_uri": "https://localhost:8080/"
        },
        "id": "LQywDAp8be3Z",
        "outputId": "212fbd59-e149-4a87-f4b1-4f2d7b990859"
      },
      "execution_count": 44,
      "outputs": [
        {
          "output_type": "stream",
          "name": "stdout",
          "text": [
            "Frequency Table: Marital Status (Females)\n",
            " Married                0.437836\n",
            "Never married          0.174731\n",
            "Divorced               0.117608\n",
            "Widowed                0.099462\n",
            "Living with partner    0.088038\n",
            "Missing                0.042339\n",
            "Separated              0.039651\n",
            "Refused                0.000336\n",
            "Name: DMDMARTL, dtype: float64\n",
            "Frequency Table: Marital Status (Males)\n",
            " Married                0.535339\n",
            "Never married          0.175426\n",
            "Living with partner    0.096049\n",
            "Divorced               0.083001\n",
            "Missing                0.048931\n",
            "Widowed                0.036245\n",
            "Separated              0.024647\n",
            "Refused                0.000362\n",
            "Name: DMDMARTL, dtype: float64\n"
          ]
        }
      ]
    },
    {
      "cell_type": "code",
      "source": [
        "# people whose age is between 30 and 40 marital status all genders\n",
        "a = da[(da['RIDAGEYR'] >= 30) & (da['RIDAGEYR'] <= 40)]\n",
        "aa = a.DMDMARTL.value_counts()\n",
        "print('Frequency Table: Marital Status (All Genders, Age: 30 to 40)\\n',aa/aa.sum())\n",
        "# create a frequency table for marital status, females only, age is between 30 and 40\n",
        "f = a[a['RIAGENDR'] == 2]\n",
        "f = f.DMDMARTL.value_counts()\n",
        "print('Frequency Table: Marital Status (Females, Age: 30 to 40)\\n',f/f.sum())\n",
        "# create a frequency table for marital status, males only, age is between 30 and 40\n",
        "m = a[a['RIAGENDR'] == 1]\n",
        "m = m.DMDMARTL.value_counts()\n",
        "print('Frequency Table: Marital Status (Males, Age: 30 to 40)\\n',m/m.sum())"
      ],
      "metadata": {
        "colab": {
          "base_uri": "https://localhost:8080/"
        },
        "id": "_Q6u2SoPfGJt",
        "outputId": "4b709fed-9c0c-42cd-bba2-4395583ecd4e"
      },
      "execution_count": 45,
      "outputs": [
        {
          "output_type": "stream",
          "name": "stdout",
          "text": [
            "Frequency Table: Marital Status (All Genders, Age: 30 to 40)\n",
            " Married                0.545809\n",
            "Never married          0.211501\n",
            "Living with partner    0.139376\n",
            "Divorced               0.068226\n",
            "Separated              0.029240\n",
            "Widowed                0.004873\n",
            "Refused                0.000975\n",
            "Name: DMDMARTL, dtype: float64\n",
            "Frequency Table: Marital Status (Females, Age: 30 to 40)\n",
            " Married                0.535714\n",
            "Never married          0.218045\n",
            "Living with partner    0.122180\n",
            "Divorced               0.086466\n",
            "Separated              0.033835\n",
            "Widowed                0.003759\n",
            "Name: DMDMARTL, dtype: float64\n",
            "Frequency Table: Marital Status (Males, Age: 30 to 40)\n",
            " Married                0.556680\n",
            "Never married          0.204453\n",
            "Living with partner    0.157895\n",
            "Divorced               0.048583\n",
            "Separated              0.024291\n",
            "Widowed                0.006073\n",
            "Refused                0.002024\n",
            "Name: DMDMARTL, dtype: float64\n"
          ]
        }
      ]
    },
    {
      "cell_type": "markdown",
      "metadata": {
        "id": "KeaKAtntU0N_"
      },
      "source": [
        "__Q1a.__ Briefly comment on some of the differences that you observe between the distribution of marital status between women and men, for people of all ages."
      ]
    },
    {
      "cell_type": "raw",
      "metadata": {
        "id": "kk6lNGGoU0N_"
      },
      "source": []
    },
    {
      "cell_type": "markdown",
      "metadata": {
        "id": "hc2A_95FU0N_"
      },
      "source": [
        "__Q1b.__ Briefly comment on the differences that you observe between the distribution of marital status states for women between the overall population, and for women between the ages of 30 and 40."
      ]
    },
    {
      "cell_type": "raw",
      "metadata": {
        "id": "2DEkvEQtU0N_"
      },
      "source": []
    },
    {
      "cell_type": "markdown",
      "metadata": {
        "id": "mjFXBGohU0N_"
      },
      "source": [
        "__Q1c.__ Repeat part b for the men."
      ]
    },
    {
      "cell_type": "raw",
      "metadata": {
        "id": "351bJuCUU0OA"
      },
      "source": []
    },
    {
      "cell_type": "markdown",
      "metadata": {
        "id": "fDnEyoghU0OA"
      },
      "source": [
        "## Question 2\n",
        "\n",
        "Restricting to the female population, stratify the subjects into age bands no wider than ten years, and construct the distribution of marital status within each age band.  Within each age band, present the distribution in terms of proportions that must sum to 1."
      ]
    },
    {
      "cell_type": "code",
      "execution_count": null,
      "metadata": {
        "id": "SZASCKa2U0OA"
      },
      "outputs": [],
      "source": [
        "# insert your code here"
      ]
    },
    {
      "cell_type": "markdown",
      "metadata": {
        "id": "-aTELtPhU0OA"
      },
      "source": [
        "__Q2a.__ Comment on the trends that you see in this series of marginal distributions."
      ]
    },
    {
      "cell_type": "raw",
      "metadata": {
        "id": "B8tl3DAyU0OA"
      },
      "source": []
    },
    {
      "cell_type": "markdown",
      "metadata": {
        "id": "4J7yYnZOU0OA"
      },
      "source": [
        "__Q2b.__ Repeat the construction for males."
      ]
    },
    {
      "cell_type": "code",
      "execution_count": null,
      "metadata": {
        "id": "f4TX7YLmU0OB"
      },
      "outputs": [],
      "source": [
        "# insert your code here"
      ]
    },
    {
      "cell_type": "markdown",
      "metadata": {
        "id": "5dy4LVdtU0OB"
      },
      "source": [
        "__Q2c.__ Comment on any notable differences that you see when comparing these results for females and for males."
      ]
    },
    {
      "cell_type": "raw",
      "metadata": {
        "id": "xvwvmBj0U0OB"
      },
      "source": []
    },
    {
      "cell_type": "markdown",
      "metadata": {
        "id": "6fd3jZFXU0OB"
      },
      "source": [
        "## Question 3\n",
        "\n",
        "Construct a histogram of the distribution of heights using the BMXHT variable in the NHANES sample."
      ]
    },
    {
      "cell_type": "code",
      "execution_count": null,
      "metadata": {
        "id": "XZ2GA9_rU0OB"
      },
      "outputs": [],
      "source": [
        "# insert your code here"
      ]
    },
    {
      "cell_type": "markdown",
      "metadata": {
        "id": "3OcBdS7IU0OB"
      },
      "source": [
        "__Q3a.__ Use the `bins` argument to [distplot](https://seaborn.pydata.org/generated/seaborn.distplot.html) to produce histograms with different numbers of bins.  Assess whether the default value for this argument gives a meaningful result, and comment on what happens as the number of bins grows excessively large or excessively small. "
      ]
    },
    {
      "cell_type": "raw",
      "metadata": {
        "id": "FVf368wRU0OB"
      },
      "source": []
    },
    {
      "cell_type": "markdown",
      "metadata": {
        "id": "NVLT4-HwU0OB"
      },
      "source": [
        "__Q3b.__ Make separate histograms for the heights of women and men, then make a side-by-side boxplot showing the heights of women and men."
      ]
    },
    {
      "cell_type": "code",
      "execution_count": null,
      "metadata": {
        "id": "1kslNHg_U0OC"
      },
      "outputs": [],
      "source": [
        "# insert your code here"
      ]
    },
    {
      "cell_type": "markdown",
      "metadata": {
        "id": "L6Zxs9HGU0OC"
      },
      "source": [
        "__Q3c.__ Comment on what features, if any are not represented clearly in the boxplots, and what features, if any, are easier to see in the boxplots than in the histograms."
      ]
    },
    {
      "cell_type": "raw",
      "metadata": {
        "id": "ayO3LG6QU0OC"
      },
      "source": []
    },
    {
      "cell_type": "markdown",
      "metadata": {
        "id": "0aT_dH7YU0OC"
      },
      "source": [
        "## Question 4\n",
        "\n",
        "Make a boxplot showing the distribution of within-subject differences between the first and second systolic blood pressure measurents ([BPXSY1](https://wwwn.cdc.gov/Nchs/Nhanes/2015-2016/BPX_I.htm#BPXSY1) and [BPXSY2](https://wwwn.cdc.gov/Nchs/Nhanes/2015-2016/BPX_I.htm#BPXSY2))."
      ]
    },
    {
      "cell_type": "code",
      "execution_count": null,
      "metadata": {
        "id": "QLA0dhlqU0OC"
      },
      "outputs": [],
      "source": [
        "# insert your code here"
      ]
    },
    {
      "cell_type": "markdown",
      "metadata": {
        "id": "22fkFWWyU0OC"
      },
      "source": [
        "__Q4a.__ What proportion of the subjects have a lower SBP on the second reading compared to the first?"
      ]
    },
    {
      "cell_type": "code",
      "execution_count": null,
      "metadata": {
        "id": "zSYzpzv6U0OC"
      },
      "outputs": [],
      "source": [
        "# insert your code here"
      ]
    },
    {
      "cell_type": "markdown",
      "metadata": {
        "id": "YE3gWGbHU0OD"
      },
      "source": [
        "__Q4b.__ Make side-by-side boxplots of the two systolic blood pressure variables."
      ]
    },
    {
      "cell_type": "code",
      "execution_count": null,
      "metadata": {
        "id": "s8nRuB0WU0OD"
      },
      "outputs": [],
      "source": [
        "# insert your code here"
      ]
    },
    {
      "cell_type": "markdown",
      "metadata": {
        "id": "ZeNP8wjVU0OD"
      },
      "source": [
        "__Q4c.__ Comment on the variation within either the first or second systolic blood pressure measurements, and the variation in the within-subject differences between the first and second systolic blood pressure measurements."
      ]
    },
    {
      "cell_type": "raw",
      "metadata": {
        "id": "W6BypM4rU0OD"
      },
      "source": []
    },
    {
      "cell_type": "markdown",
      "metadata": {
        "id": "_LuUPeTnU0OD"
      },
      "source": [
        "## Question 5\n",
        "\n",
        "Construct a frequency table of household sizes for people within each educational attainment category (the relevant variable is [DMDEDUC2](https://wwwn.cdc.gov/Nchs/Nhanes/2015-2016/DEMO_I.htm#DMDEDUC2)).  Convert the frequencies to proportions."
      ]
    },
    {
      "cell_type": "code",
      "execution_count": null,
      "metadata": {
        "id": "5FNiHsN-U0OD"
      },
      "outputs": [],
      "source": [
        "# insert your code here"
      ]
    },
    {
      "cell_type": "markdown",
      "metadata": {
        "id": "HMKfADeQU0OD"
      },
      "source": [
        "__Q5a.__ Comment on any major differences among the distributions."
      ]
    },
    {
      "cell_type": "raw",
      "metadata": {
        "id": "mgVyhDxoU0OD"
      },
      "source": []
    },
    {
      "cell_type": "markdown",
      "metadata": {
        "id": "80T7MMJ7U0OE"
      },
      "source": [
        "__Q5b.__ Restrict the sample to people between 30 and 40 years of age.  Then calculate the median household size for women and men within each level of educational attainment."
      ]
    },
    {
      "cell_type": "code",
      "execution_count": null,
      "metadata": {
        "id": "gbGfW9AZU0OE"
      },
      "outputs": [],
      "source": [
        "# insert your code here"
      ]
    },
    {
      "cell_type": "markdown",
      "metadata": {
        "id": "-2pbu0diU0OE"
      },
      "source": [
        "## Question 6\n",
        "\n",
        "The participants can be clustered into \"maked variance units\" (MVU) based on every combination of the variables [SDMVSTRA](https://wwwn.cdc.gov/Nchs/Nhanes/2015-2016/DEMO_I.htm#SDMVSTRA) and [SDMVPSU](https://wwwn.cdc.gov/Nchs/Nhanes/2015-2016/DEMO_I.htm#SDMVPSU).  Calculate the mean age ([RIDAGEYR](https://wwwn.cdc.gov/Nchs/Nhanes/2015-2016/DEMO_I.htm#RIDAGEYR)), height ([BMXHT](https://wwwn.cdc.gov/Nchs/Nhanes/2015-2016/BMX_I.htm#BMXHT)), and BMI ([BMXBMI](https://wwwn.cdc.gov/Nchs/Nhanes/2015-2016/BMX_I.htm#BMXBMI)) for each gender ([RIAGENDR](https://wwwn.cdc.gov/Nchs/Nhanes/2015-2016/DEMO_I.htm#RIAGENDR)), within each MVU, and report the ratio between the largest and smallest mean (e.g. for height) across the MVUs."
      ]
    },
    {
      "cell_type": "code",
      "execution_count": null,
      "metadata": {
        "id": "6EeRPOOhU0OE"
      },
      "outputs": [],
      "source": [
        "# insert your code here"
      ]
    },
    {
      "cell_type": "markdown",
      "metadata": {
        "id": "SWeWsPDHU0OE"
      },
      "source": [
        "__Q6a.__ Comment on the extent to which mean age, height, and BMI vary among the MVUs."
      ]
    },
    {
      "cell_type": "raw",
      "metadata": {
        "id": "4__Vuj7VU0OE"
      },
      "source": []
    },
    {
      "cell_type": "markdown",
      "metadata": {
        "id": "zxumX17sU0OE"
      },
      "source": [
        "__Q6b.__ Calculate the inter-quartile range (IQR) for age, height, and BMI for each gender and each MVU.  Report the ratio between the largest and smalles IQR across the MVUs."
      ]
    },
    {
      "cell_type": "code",
      "execution_count": null,
      "metadata": {
        "id": "DkPPx059U0OF"
      },
      "outputs": [],
      "source": [
        "# insert your code here"
      ]
    },
    {
      "cell_type": "markdown",
      "metadata": {
        "id": "iczCkdffU0OF"
      },
      "source": [
        "__Q6c.__ Comment on the extent to which the IQR for age, height, and BMI vary among the MVUs."
      ]
    },
    {
      "cell_type": "raw",
      "metadata": {
        "id": "c6qTWnfXU0OF"
      },
      "source": []
    }
  ],
  "metadata": {
    "kernelspec": {
      "display_name": "Python 3",
      "language": "python",
      "name": "python3"
    },
    "language_info": {
      "codemirror_mode": {
        "name": "ipython",
        "version": 3
      },
      "file_extension": ".py",
      "mimetype": "text/x-python",
      "name": "python",
      "nbconvert_exporter": "python",
      "pygments_lexer": "ipython3",
      "version": "3.6.3"
    },
    "colab": {
      "provenance": [],
      "include_colab_link": true
    }
  },
  "nbformat": 4,
  "nbformat_minor": 0
}